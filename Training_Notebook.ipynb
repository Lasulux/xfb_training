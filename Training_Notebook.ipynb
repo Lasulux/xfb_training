{
 "cells": [
  {
   "cell_type": "markdown",
   "metadata": {},
   "source": [
    "## Training notebook\n",
    "Pandas és Polars gyakorlása lenne a cél. Adatműveletek, keresések, csoportosítások, néha átírások fognak kelleni. Polars RUST alapú. Programozósabb. Nézd meg a Pandas parancsok megfelelőit Polarsban, hogy hogy lehet használni. Most (júni 26, 2024) Pandas-ban van a legtöbb dolog, de Polars-ra szeretnénk átállni, ezért kell mindkettő.\n",
    "\n",
    "1. chatgpt v find v vmi egy kis dataset legyen létrehozva tutorialokhoz (kaggle is jó, onnan van a manufacturing defects dataset)\n",
    "\n",
    "2. https://www.kaggle.com/code/adilaliyev/pandas-cheatsheet-for-sql-people#Pandas-cheatsheet-for-SQL-people innen vannak kiírva a példák lentebb\n",
    "\n",
    "3. Plus groupby dolgok, merge, like, if. The basics. Tudd gyorsan használni őket. Ezekre is van egy egy példa.\n",
    "\n",
    "4. W3-on plot fókuszú dolgok vannak. Nem nagyon fontos de jól jöhet még.\n"
   ]
  },
  {
   "cell_type": "code",
   "execution_count": 1,
   "metadata": {},
   "outputs": [],
   "source": [
    "#imports\n",
    "import json\n",
    "import pandas as pd\n",
    "import numpy as np\n",
    "import polars as pl"
   ]
  },
  {
   "cell_type": "markdown",
   "metadata": {},
   "source": [
    "#### Reading csv, head and indexing are the same"
   ]
  },
  {
   "cell_type": "markdown",
   "metadata": {},
   "source": []
  },
  {
   "cell_type": "code",
   "execution_count": 2,
   "metadata": {},
   "outputs": [],
   "source": [
    "manudata_pd = pd.read_csv(\"manufacturing_defect_dataset.csv\")\n",
    "manudata_pl = pl.read_csv(\"manufacturing_defect_dataset.csv\")"
   ]
  },
  {
   "cell_type": "code",
   "execution_count": 5,
   "metadata": {},
   "outputs": [
    {
     "data": {
      "text/html": [
       "<div>\n",
       "<style scoped>\n",
       "    .dataframe tbody tr th:only-of-type {\n",
       "        vertical-align: middle;\n",
       "    }\n",
       "\n",
       "    .dataframe tbody tr th {\n",
       "        vertical-align: top;\n",
       "    }\n",
       "\n",
       "    .dataframe thead th {\n",
       "        text-align: right;\n",
       "    }\n",
       "</style>\n",
       "<table border=\"1\" class=\"dataframe\">\n",
       "  <thead>\n",
       "    <tr style=\"text-align: right;\">\n",
       "      <th></th>\n",
       "      <th>ProductionVolume</th>\n",
       "      <th>ProductionCost</th>\n",
       "      <th>SupplierQuality</th>\n",
       "      <th>DeliveryDelay</th>\n",
       "      <th>DefectRate</th>\n",
       "      <th>QualityScore</th>\n",
       "      <th>MaintenanceHours</th>\n",
       "      <th>DowntimePercentage</th>\n",
       "      <th>InventoryTurnover</th>\n",
       "      <th>StockoutRate</th>\n",
       "      <th>WorkerProductivity</th>\n",
       "      <th>SafetyIncidents</th>\n",
       "      <th>EnergyConsumption</th>\n",
       "      <th>EnergyEfficiency</th>\n",
       "      <th>AdditiveProcessTime</th>\n",
       "      <th>AdditiveMaterialCost</th>\n",
       "      <th>DefectStatus</th>\n",
       "    </tr>\n",
       "  </thead>\n",
       "  <tbody>\n",
       "    <tr>\n",
       "      <th>0</th>\n",
       "      <td>202</td>\n",
       "      <td>13175.403783</td>\n",
       "      <td>86.648534</td>\n",
       "      <td>1</td>\n",
       "      <td>3.121492</td>\n",
       "      <td>63.463494</td>\n",
       "      <td>9</td>\n",
       "      <td>0.052343</td>\n",
       "      <td>8.630515</td>\n",
       "      <td>0.081322</td>\n",
       "      <td>85.042379</td>\n",
       "      <td>0</td>\n",
       "      <td>2419.616785</td>\n",
       "      <td>0.468947</td>\n",
       "      <td>5.551639</td>\n",
       "      <td>236.439301</td>\n",
       "      <td>1</td>\n",
       "    </tr>\n",
       "    <tr>\n",
       "      <th>1</th>\n",
       "      <td>535</td>\n",
       "      <td>19770.046093</td>\n",
       "      <td>86.310664</td>\n",
       "      <td>4</td>\n",
       "      <td>0.819531</td>\n",
       "      <td>83.697818</td>\n",
       "      <td>20</td>\n",
       "      <td>4.908328</td>\n",
       "      <td>9.296598</td>\n",
       "      <td>0.038486</td>\n",
       "      <td>99.657443</td>\n",
       "      <td>7</td>\n",
       "      <td>3915.566713</td>\n",
       "      <td>0.119485</td>\n",
       "      <td>9.080754</td>\n",
       "      <td>353.957631</td>\n",
       "      <td>1</td>\n",
       "    </tr>\n",
       "    <tr>\n",
       "      <th>2</th>\n",
       "      <td>960</td>\n",
       "      <td>19060.820997</td>\n",
       "      <td>82.132472</td>\n",
       "      <td>0</td>\n",
       "      <td>4.514504</td>\n",
       "      <td>90.350550</td>\n",
       "      <td>1</td>\n",
       "      <td>2.464923</td>\n",
       "      <td>5.097486</td>\n",
       "      <td>0.002887</td>\n",
       "      <td>92.819264</td>\n",
       "      <td>2</td>\n",
       "      <td>3392.385362</td>\n",
       "      <td>0.496392</td>\n",
       "      <td>6.562827</td>\n",
       "      <td>396.189402</td>\n",
       "      <td>1</td>\n",
       "    </tr>\n",
       "    <tr>\n",
       "      <th>3</th>\n",
       "      <td>370</td>\n",
       "      <td>5647.606037</td>\n",
       "      <td>87.335966</td>\n",
       "      <td>5</td>\n",
       "      <td>0.638524</td>\n",
       "      <td>67.628690</td>\n",
       "      <td>8</td>\n",
       "      <td>4.692476</td>\n",
       "      <td>3.577616</td>\n",
       "      <td>0.055331</td>\n",
       "      <td>96.887013</td>\n",
       "      <td>8</td>\n",
       "      <td>4652.400275</td>\n",
       "      <td>0.183125</td>\n",
       "      <td>8.097496</td>\n",
       "      <td>164.135870</td>\n",
       "      <td>1</td>\n",
       "    </tr>\n",
       "    <tr>\n",
       "      <th>4</th>\n",
       "      <td>206</td>\n",
       "      <td>7472.222236</td>\n",
       "      <td>81.989893</td>\n",
       "      <td>3</td>\n",
       "      <td>3.867784</td>\n",
       "      <td>82.728334</td>\n",
       "      <td>9</td>\n",
       "      <td>2.746726</td>\n",
       "      <td>6.851709</td>\n",
       "      <td>0.068047</td>\n",
       "      <td>88.315554</td>\n",
       "      <td>7</td>\n",
       "      <td>1581.630332</td>\n",
       "      <td>0.263507</td>\n",
       "      <td>6.406154</td>\n",
       "      <td>365.708964</td>\n",
       "      <td>1</td>\n",
       "    </tr>\n",
       "  </tbody>\n",
       "</table>\n",
       "</div>"
      ],
      "text/plain": [
       "   ProductionVolume  ProductionCost  SupplierQuality  DeliveryDelay  \\\n",
       "0               202    13175.403783        86.648534              1   \n",
       "1               535    19770.046093        86.310664              4   \n",
       "2               960    19060.820997        82.132472              0   \n",
       "3               370     5647.606037        87.335966              5   \n",
       "4               206     7472.222236        81.989893              3   \n",
       "\n",
       "   DefectRate  QualityScore  MaintenanceHours  DowntimePercentage  \\\n",
       "0    3.121492     63.463494                 9            0.052343   \n",
       "1    0.819531     83.697818                20            4.908328   \n",
       "2    4.514504     90.350550                 1            2.464923   \n",
       "3    0.638524     67.628690                 8            4.692476   \n",
       "4    3.867784     82.728334                 9            2.746726   \n",
       "\n",
       "   InventoryTurnover  StockoutRate  WorkerProductivity  SafetyIncidents  \\\n",
       "0           8.630515      0.081322           85.042379                0   \n",
       "1           9.296598      0.038486           99.657443                7   \n",
       "2           5.097486      0.002887           92.819264                2   \n",
       "3           3.577616      0.055331           96.887013                8   \n",
       "4           6.851709      0.068047           88.315554                7   \n",
       "\n",
       "   EnergyConsumption  EnergyEfficiency  AdditiveProcessTime  \\\n",
       "0        2419.616785          0.468947             5.551639   \n",
       "1        3915.566713          0.119485             9.080754   \n",
       "2        3392.385362          0.496392             6.562827   \n",
       "3        4652.400275          0.183125             8.097496   \n",
       "4        1581.630332          0.263507             6.406154   \n",
       "\n",
       "   AdditiveMaterialCost  DefectStatus  \n",
       "0            236.439301             1  \n",
       "1            353.957631             1  \n",
       "2            396.189402             1  \n",
       "3            164.135870             1  \n",
       "4            365.708964             1  "
      ]
     },
     "execution_count": 5,
     "metadata": {},
     "output_type": "execute_result"
    }
   ],
   "source": [
    "manudata_pd.head()"
   ]
  },
  {
   "cell_type": "code",
   "execution_count": 6,
   "metadata": {},
   "outputs": [
    {
     "data": {
      "text/html": [
       "<div><style>\n",
       ".dataframe > thead > tr,\n",
       ".dataframe > tbody > tr {\n",
       "  text-align: right;\n",
       "  white-space: pre-wrap;\n",
       "}\n",
       "</style>\n",
       "<small>shape: (5, 17)</small><table border=\"1\" class=\"dataframe\"><thead><tr><th>ProductionVolume</th><th>ProductionCost</th><th>SupplierQuality</th><th>DeliveryDelay</th><th>DefectRate</th><th>QualityScore</th><th>MaintenanceHours</th><th>DowntimePercentage</th><th>InventoryTurnover</th><th>StockoutRate</th><th>WorkerProductivity</th><th>SafetyIncidents</th><th>EnergyConsumption</th><th>EnergyEfficiency</th><th>AdditiveProcessTime</th><th>AdditiveMaterialCost</th><th>DefectStatus</th></tr><tr><td>i64</td><td>f64</td><td>f64</td><td>i64</td><td>f64</td><td>f64</td><td>i64</td><td>f64</td><td>f64</td><td>f64</td><td>f64</td><td>i64</td><td>f64</td><td>f64</td><td>f64</td><td>f64</td><td>i64</td></tr></thead><tbody><tr><td>202</td><td>13175.403783</td><td>86.648534</td><td>1</td><td>3.121492</td><td>63.463494</td><td>9</td><td>0.052343</td><td>8.630515</td><td>0.081322</td><td>85.042379</td><td>0</td><td>2419.616785</td><td>0.468947</td><td>5.551639</td><td>236.439301</td><td>1</td></tr><tr><td>535</td><td>19770.046093</td><td>86.310664</td><td>4</td><td>0.819531</td><td>83.697818</td><td>20</td><td>4.908328</td><td>9.296598</td><td>0.038486</td><td>99.657443</td><td>7</td><td>3915.566713</td><td>0.119485</td><td>9.080754</td><td>353.957631</td><td>1</td></tr><tr><td>960</td><td>19060.820997</td><td>82.132472</td><td>0</td><td>4.514504</td><td>90.35055</td><td>1</td><td>2.464923</td><td>5.097486</td><td>0.002887</td><td>92.819264</td><td>2</td><td>3392.385362</td><td>0.496392</td><td>6.562827</td><td>396.189402</td><td>1</td></tr><tr><td>370</td><td>5647.606037</td><td>87.335966</td><td>5</td><td>0.638524</td><td>67.62869</td><td>8</td><td>4.692476</td><td>3.577616</td><td>0.055331</td><td>96.887013</td><td>8</td><td>4652.400275</td><td>0.183125</td><td>8.097496</td><td>164.13587</td><td>1</td></tr><tr><td>206</td><td>7472.222236</td><td>81.989893</td><td>3</td><td>3.867784</td><td>82.728334</td><td>9</td><td>2.746726</td><td>6.851709</td><td>0.068047</td><td>88.315554</td><td>7</td><td>1581.630332</td><td>0.263507</td><td>6.406154</td><td>365.708964</td><td>1</td></tr></tbody></table></div>"
      ],
      "text/plain": [
       "shape: (5, 17)\n",
       "┌───────────┬───────────┬───────────┬───────────┬───┬───────────┬───────────┬───────────┬──────────┐\n",
       "│ Productio ┆ Productio ┆ SupplierQ ┆ DeliveryD ┆ … ┆ EnergyEff ┆ AdditiveP ┆ AdditiveM ┆ DefectSt │\n",
       "│ nVolume   ┆ nCost     ┆ uality    ┆ elay      ┆   ┆ iciency   ┆ rocessTim ┆ aterialCo ┆ atus     │\n",
       "│ ---       ┆ ---       ┆ ---       ┆ ---       ┆   ┆ ---       ┆ e         ┆ st        ┆ ---      │\n",
       "│ i64       ┆ f64       ┆ f64       ┆ i64       ┆   ┆ f64       ┆ ---       ┆ ---       ┆ i64      │\n",
       "│           ┆           ┆           ┆           ┆   ┆           ┆ f64       ┆ f64       ┆          │\n",
       "╞═══════════╪═══════════╪═══════════╪═══════════╪═══╪═══════════╪═══════════╪═══════════╪══════════╡\n",
       "│ 202       ┆ 13175.403 ┆ 86.648534 ┆ 1         ┆ … ┆ 0.468947  ┆ 5.551639  ┆ 236.43930 ┆ 1        │\n",
       "│           ┆ 783       ┆           ┆           ┆   ┆           ┆           ┆ 1         ┆          │\n",
       "│ 535       ┆ 19770.046 ┆ 86.310664 ┆ 4         ┆ … ┆ 0.119485  ┆ 9.080754  ┆ 353.95763 ┆ 1        │\n",
       "│           ┆ 093       ┆           ┆           ┆   ┆           ┆           ┆ 1         ┆          │\n",
       "│ 960       ┆ 19060.820 ┆ 82.132472 ┆ 0         ┆ … ┆ 0.496392  ┆ 6.562827  ┆ 396.18940 ┆ 1        │\n",
       "│           ┆ 997       ┆           ┆           ┆   ┆           ┆           ┆ 2         ┆          │\n",
       "│ 370       ┆ 5647.6060 ┆ 87.335966 ┆ 5         ┆ … ┆ 0.183125  ┆ 8.097496  ┆ 164.13587 ┆ 1        │\n",
       "│           ┆ 37        ┆           ┆           ┆   ┆           ┆           ┆           ┆          │\n",
       "│ 206       ┆ 7472.2222 ┆ 81.989893 ┆ 3         ┆ … ┆ 0.263507  ┆ 6.406154  ┆ 365.70896 ┆ 1        │\n",
       "│           ┆ 36        ┆           ┆           ┆   ┆           ┆           ┆ 4         ┆          │\n",
       "└───────────┴───────────┴───────────┴───────────┴───┴───────────┴───────────┴───────────┴──────────┘"
      ]
     },
     "execution_count": 6,
     "metadata": {},
     "output_type": "execute_result"
    }
   ],
   "source": [
    "manudata_pl.head()"
   ]
  },
  {
   "cell_type": "code",
   "execution_count": 7,
   "metadata": {},
   "outputs": [
    {
     "data": {
      "text/html": [
       "<div>\n",
       "<style scoped>\n",
       "    .dataframe tbody tr th:only-of-type {\n",
       "        vertical-align: middle;\n",
       "    }\n",
       "\n",
       "    .dataframe tbody tr th {\n",
       "        vertical-align: top;\n",
       "    }\n",
       "\n",
       "    .dataframe thead th {\n",
       "        text-align: right;\n",
       "    }\n",
       "</style>\n",
       "<table border=\"1\" class=\"dataframe\">\n",
       "  <thead>\n",
       "    <tr style=\"text-align: right;\">\n",
       "      <th></th>\n",
       "      <th>ProductionVolume</th>\n",
       "      <th>ProductionCost</th>\n",
       "      <th>SupplierQuality</th>\n",
       "      <th>DeliveryDelay</th>\n",
       "      <th>DefectRate</th>\n",
       "      <th>QualityScore</th>\n",
       "      <th>MaintenanceHours</th>\n",
       "      <th>DowntimePercentage</th>\n",
       "      <th>InventoryTurnover</th>\n",
       "      <th>StockoutRate</th>\n",
       "      <th>WorkerProductivity</th>\n",
       "      <th>SafetyIncidents</th>\n",
       "      <th>EnergyConsumption</th>\n",
       "      <th>EnergyEfficiency</th>\n",
       "      <th>AdditiveProcessTime</th>\n",
       "      <th>AdditiveMaterialCost</th>\n",
       "      <th>DefectStatus</th>\n",
       "    </tr>\n",
       "  </thead>\n",
       "  <tbody>\n",
       "    <tr>\n",
       "      <th>0</th>\n",
       "      <td>202</td>\n",
       "      <td>13175.403783</td>\n",
       "      <td>86.648534</td>\n",
       "      <td>1</td>\n",
       "      <td>3.121492</td>\n",
       "      <td>63.463494</td>\n",
       "      <td>9</td>\n",
       "      <td>0.052343</td>\n",
       "      <td>8.630515</td>\n",
       "      <td>0.081322</td>\n",
       "      <td>85.042379</td>\n",
       "      <td>0</td>\n",
       "      <td>2419.616785</td>\n",
       "      <td>0.468947</td>\n",
       "      <td>5.551639</td>\n",
       "      <td>236.439301</td>\n",
       "      <td>1</td>\n",
       "    </tr>\n",
       "    <tr>\n",
       "      <th>1</th>\n",
       "      <td>535</td>\n",
       "      <td>19770.046093</td>\n",
       "      <td>86.310664</td>\n",
       "      <td>4</td>\n",
       "      <td>0.819531</td>\n",
       "      <td>83.697818</td>\n",
       "      <td>20</td>\n",
       "      <td>4.908328</td>\n",
       "      <td>9.296598</td>\n",
       "      <td>0.038486</td>\n",
       "      <td>99.657443</td>\n",
       "      <td>7</td>\n",
       "      <td>3915.566713</td>\n",
       "      <td>0.119485</td>\n",
       "      <td>9.080754</td>\n",
       "      <td>353.957631</td>\n",
       "      <td>1</td>\n",
       "    </tr>\n",
       "  </tbody>\n",
       "</table>\n",
       "</div>"
      ],
      "text/plain": [
       "   ProductionVolume  ProductionCost  SupplierQuality  DeliveryDelay  \\\n",
       "0               202    13175.403783        86.648534              1   \n",
       "1               535    19770.046093        86.310664              4   \n",
       "\n",
       "   DefectRate  QualityScore  MaintenanceHours  DowntimePercentage  \\\n",
       "0    3.121492     63.463494                 9            0.052343   \n",
       "1    0.819531     83.697818                20            4.908328   \n",
       "\n",
       "   InventoryTurnover  StockoutRate  WorkerProductivity  SafetyIncidents  \\\n",
       "0           8.630515      0.081322           85.042379                0   \n",
       "1           9.296598      0.038486           99.657443                7   \n",
       "\n",
       "   EnergyConsumption  EnergyEfficiency  AdditiveProcessTime  \\\n",
       "0        2419.616785          0.468947             5.551639   \n",
       "1        3915.566713          0.119485             9.080754   \n",
       "\n",
       "   AdditiveMaterialCost  DefectStatus  \n",
       "0            236.439301             1  \n",
       "1            353.957631             1  "
      ]
     },
     "execution_count": 7,
     "metadata": {},
     "output_type": "execute_result"
    }
   ],
   "source": [
    "manudata_pd[0:2]"
   ]
  },
  {
   "cell_type": "code",
   "execution_count": 8,
   "metadata": {},
   "outputs": [
    {
     "data": {
      "text/html": [
       "<div><style>\n",
       ".dataframe > thead > tr,\n",
       ".dataframe > tbody > tr {\n",
       "  text-align: right;\n",
       "  white-space: pre-wrap;\n",
       "}\n",
       "</style>\n",
       "<small>shape: (2, 17)</small><table border=\"1\" class=\"dataframe\"><thead><tr><th>ProductionVolume</th><th>ProductionCost</th><th>SupplierQuality</th><th>DeliveryDelay</th><th>DefectRate</th><th>QualityScore</th><th>MaintenanceHours</th><th>DowntimePercentage</th><th>InventoryTurnover</th><th>StockoutRate</th><th>WorkerProductivity</th><th>SafetyIncidents</th><th>EnergyConsumption</th><th>EnergyEfficiency</th><th>AdditiveProcessTime</th><th>AdditiveMaterialCost</th><th>DefectStatus</th></tr><tr><td>i64</td><td>f64</td><td>f64</td><td>i64</td><td>f64</td><td>f64</td><td>i64</td><td>f64</td><td>f64</td><td>f64</td><td>f64</td><td>i64</td><td>f64</td><td>f64</td><td>f64</td><td>f64</td><td>i64</td></tr></thead><tbody><tr><td>202</td><td>13175.403783</td><td>86.648534</td><td>1</td><td>3.121492</td><td>63.463494</td><td>9</td><td>0.052343</td><td>8.630515</td><td>0.081322</td><td>85.042379</td><td>0</td><td>2419.616785</td><td>0.468947</td><td>5.551639</td><td>236.439301</td><td>1</td></tr><tr><td>535</td><td>19770.046093</td><td>86.310664</td><td>4</td><td>0.819531</td><td>83.697818</td><td>20</td><td>4.908328</td><td>9.296598</td><td>0.038486</td><td>99.657443</td><td>7</td><td>3915.566713</td><td>0.119485</td><td>9.080754</td><td>353.957631</td><td>1</td></tr></tbody></table></div>"
      ],
      "text/plain": [
       "shape: (2, 17)\n",
       "┌───────────┬───────────┬───────────┬───────────┬───┬───────────┬───────────┬───────────┬──────────┐\n",
       "│ Productio ┆ Productio ┆ SupplierQ ┆ DeliveryD ┆ … ┆ EnergyEff ┆ AdditiveP ┆ AdditiveM ┆ DefectSt │\n",
       "│ nVolume   ┆ nCost     ┆ uality    ┆ elay      ┆   ┆ iciency   ┆ rocessTim ┆ aterialCo ┆ atus     │\n",
       "│ ---       ┆ ---       ┆ ---       ┆ ---       ┆   ┆ ---       ┆ e         ┆ st        ┆ ---      │\n",
       "│ i64       ┆ f64       ┆ f64       ┆ i64       ┆   ┆ f64       ┆ ---       ┆ ---       ┆ i64      │\n",
       "│           ┆           ┆           ┆           ┆   ┆           ┆ f64       ┆ f64       ┆          │\n",
       "╞═══════════╪═══════════╪═══════════╪═══════════╪═══╪═══════════╪═══════════╪═══════════╪══════════╡\n",
       "│ 202       ┆ 13175.403 ┆ 86.648534 ┆ 1         ┆ … ┆ 0.468947  ┆ 5.551639  ┆ 236.43930 ┆ 1        │\n",
       "│           ┆ 783       ┆           ┆           ┆   ┆           ┆           ┆ 1         ┆          │\n",
       "│ 535       ┆ 19770.046 ┆ 86.310664 ┆ 4         ┆ … ┆ 0.119485  ┆ 9.080754  ┆ 353.95763 ┆ 1        │\n",
       "│           ┆ 093       ┆           ┆           ┆   ┆           ┆           ┆ 1         ┆          │\n",
       "└───────────┴───────────┴───────────┴───────────┴───┴───────────┴───────────┴───────────┴──────────┘"
      ]
     },
     "execution_count": 8,
     "metadata": {},
     "output_type": "execute_result"
    }
   ],
   "source": [
    "manudata_pl[0:2]"
   ]
  },
  {
   "cell_type": "markdown",
   "metadata": {},
   "source": [
    "#### Making a new column:\n",
    "Pandas: Index non existent column and give it values. Can change the order with pop and insert.\n",
    "\n",
    "Polars: with_columns( values.alias(\"colname\")) the new column can overwrite the same name column,\n",
    "        for index we need with_row_index()  "
   ]
  },
  {
   "cell_type": "code",
   "execution_count": 9,
   "metadata": {},
   "outputs": [
    {
     "data": {
      "text/html": [
       "<div>\n",
       "<style scoped>\n",
       "    .dataframe tbody tr th:only-of-type {\n",
       "        vertical-align: middle;\n",
       "    }\n",
       "\n",
       "    .dataframe tbody tr th {\n",
       "        vertical-align: top;\n",
       "    }\n",
       "\n",
       "    .dataframe thead th {\n",
       "        text-align: right;\n",
       "    }\n",
       "</style>\n",
       "<table border=\"1\" class=\"dataframe\">\n",
       "  <thead>\n",
       "    <tr style=\"text-align: right;\">\n",
       "      <th></th>\n",
       "      <th>id</th>\n",
       "      <th>QualityScore</th>\n",
       "    </tr>\n",
       "  </thead>\n",
       "  <tbody>\n",
       "    <tr>\n",
       "      <th>0</th>\n",
       "      <td>0</td>\n",
       "      <td>63.463494</td>\n",
       "    </tr>\n",
       "    <tr>\n",
       "      <th>1</th>\n",
       "      <td>1</td>\n",
       "      <td>83.697818</td>\n",
       "    </tr>\n",
       "    <tr>\n",
       "      <th>2</th>\n",
       "      <td>2</td>\n",
       "      <td>90.350550</td>\n",
       "    </tr>\n",
       "    <tr>\n",
       "      <th>3</th>\n",
       "      <td>3</td>\n",
       "      <td>67.628690</td>\n",
       "    </tr>\n",
       "    <tr>\n",
       "      <th>4</th>\n",
       "      <td>4</td>\n",
       "      <td>82.728334</td>\n",
       "    </tr>\n",
       "    <tr>\n",
       "      <th>...</th>\n",
       "      <td>...</td>\n",
       "      <td>...</td>\n",
       "    </tr>\n",
       "    <tr>\n",
       "      <th>3235</th>\n",
       "      <td>3235</td>\n",
       "      <td>87.141681</td>\n",
       "    </tr>\n",
       "    <tr>\n",
       "      <th>3236</th>\n",
       "      <td>3236</td>\n",
       "      <td>95.562997</td>\n",
       "    </tr>\n",
       "    <tr>\n",
       "      <th>3237</th>\n",
       "      <td>3237</td>\n",
       "      <td>77.973442</td>\n",
       "    </tr>\n",
       "    <tr>\n",
       "      <th>3238</th>\n",
       "      <td>3238</td>\n",
       "      <td>95.755591</td>\n",
       "    </tr>\n",
       "    <tr>\n",
       "      <th>3239</th>\n",
       "      <td>3239</td>\n",
       "      <td>94.630965</td>\n",
       "    </tr>\n",
       "  </tbody>\n",
       "</table>\n",
       "<p>3240 rows × 2 columns</p>\n",
       "</div>"
      ],
      "text/plain": [
       "        id  QualityScore\n",
       "0        0     63.463494\n",
       "1        1     83.697818\n",
       "2        2     90.350550\n",
       "3        3     67.628690\n",
       "4        4     82.728334\n",
       "...    ...           ...\n",
       "3235  3235     87.141681\n",
       "3236  3236     95.562997\n",
       "3237  3237     77.973442\n",
       "3238  3238     95.755591\n",
       "3239  3239     94.630965\n",
       "\n",
       "[3240 rows x 2 columns]"
      ]
     },
     "metadata": {},
     "output_type": "display_data"
    }
   ],
   "source": [
    "# make a new column\n",
    "manudata_pd['id'] = manudata_pd.index\n",
    "\n",
    "#reordering\n",
    "# delete the column with pop\n",
    "first_column = manudata_pd.pop('id')   \n",
    "# insert column using insert(position,column_name, first_column) function \n",
    "manudata_pd.insert(0, 'id', first_column)\n",
    "\n",
    "display(manudata_pd[['id','QualityScore']])"
   ]
  },
  {
   "cell_type": "code",
   "execution_count": 10,
   "metadata": {},
   "outputs": [],
   "source": [
    "manudata_pl = manudata_pl.with_columns(\n",
    "    pl.lit(123).alias('123')\n",
    ")\n",
    "manudata_pl = manudata_pl.with_row_index(name='id') #does not like to be ran multiple times"
   ]
  },
  {
   "cell_type": "code",
   "execution_count": 11,
   "metadata": {},
   "outputs": [
    {
     "data": {
      "text/html": [
       "<div><style>\n",
       ".dataframe > thead > tr,\n",
       ".dataframe > tbody > tr {\n",
       "  text-align: right;\n",
       "  white-space: pre-wrap;\n",
       "}\n",
       "</style>\n",
       "<small>shape: (3_240, 2)</small><table border=\"1\" class=\"dataframe\"><thead><tr><th>id</th><th>QualityScore</th></tr><tr><td>u32</td><td>f64</td></tr></thead><tbody><tr><td>0</td><td>63.463494</td></tr><tr><td>1</td><td>83.697818</td></tr><tr><td>2</td><td>90.35055</td></tr><tr><td>3</td><td>67.62869</td></tr><tr><td>4</td><td>82.728334</td></tr><tr><td>&hellip;</td><td>&hellip;</td></tr><tr><td>3235</td><td>87.141681</td></tr><tr><td>3236</td><td>95.562997</td></tr><tr><td>3237</td><td>77.973442</td></tr><tr><td>3238</td><td>95.755591</td></tr><tr><td>3239</td><td>94.630965</td></tr></tbody></table></div>"
      ],
      "text/plain": [
       "shape: (3_240, 2)\n",
       "┌──────┬──────────────┐\n",
       "│ id   ┆ QualityScore │\n",
       "│ ---  ┆ ---          │\n",
       "│ u32  ┆ f64          │\n",
       "╞══════╪══════════════╡\n",
       "│ 0    ┆ 63.463494    │\n",
       "│ 1    ┆ 83.697818    │\n",
       "│ 2    ┆ 90.35055     │\n",
       "│ 3    ┆ 67.62869     │\n",
       "│ 4    ┆ 82.728334    │\n",
       "│ …    ┆ …            │\n",
       "│ 3235 ┆ 87.141681    │\n",
       "│ 3236 ┆ 95.562997    │\n",
       "│ 3237 ┆ 77.973442    │\n",
       "│ 3238 ┆ 95.755591    │\n",
       "│ 3239 ┆ 94.630965    │\n",
       "└──────┴──────────────┘"
      ]
     },
     "execution_count": 11,
     "metadata": {},
     "output_type": "execute_result"
    }
   ],
   "source": [
    "manudata_pl[['id','QualityScore']]"
   ]
  },
  {
   "cell_type": "markdown",
   "metadata": {},
   "source": [
    "#### Filter and replace, look for missing data:\n",
    "Pandas: \n",
    "index with np.where(condition,changetovalue,atplace)\n",
    "        .isnull() can be used to index NaN/None/Null...\n",
    "        \n",
    "Polars: \n",
    "look for and replace values with \n",
    "        with_columns( \n",
    "                pl.when( pl.col(colname)==condition )\n",
    "                .then(changetovalue)\n",
    "                .otherwise(pl.col(colname))\n",
    "                .alias(colname)\n",
    "        )\n",
    "        same column name given will replace the old column automatically, we are technically adding a new column here.\n",
    "        filtered display: .filter(pl.col(colname)==condition)"
   ]
  },
  {
   "cell_type": "code",
   "execution_count": 12,
   "metadata": {},
   "outputs": [
    {
     "data": {
      "text/html": [
       "<div>\n",
       "<style scoped>\n",
       "    .dataframe tbody tr th:only-of-type {\n",
       "        vertical-align: middle;\n",
       "    }\n",
       "\n",
       "    .dataframe tbody tr th {\n",
       "        vertical-align: top;\n",
       "    }\n",
       "\n",
       "    .dataframe thead th {\n",
       "        text-align: right;\n",
       "    }\n",
       "</style>\n",
       "<table border=\"1\" class=\"dataframe\">\n",
       "  <thead>\n",
       "    <tr style=\"text-align: right;\">\n",
       "      <th></th>\n",
       "      <th>id</th>\n",
       "      <th>QualityScore</th>\n",
       "    </tr>\n",
       "  </thead>\n",
       "  <tbody>\n",
       "    <tr>\n",
       "      <th>0</th>\n",
       "      <td>0</td>\n",
       "      <td>None</td>\n",
       "    </tr>\n",
       "    <tr>\n",
       "      <th>15</th>\n",
       "      <td>15</td>\n",
       "      <td>None</td>\n",
       "    </tr>\n",
       "    <tr>\n",
       "      <th>21</th>\n",
       "      <td>21</td>\n",
       "      <td>None</td>\n",
       "    </tr>\n",
       "    <tr>\n",
       "      <th>35</th>\n",
       "      <td>35</td>\n",
       "      <td>None</td>\n",
       "    </tr>\n",
       "    <tr>\n",
       "      <th>45</th>\n",
       "      <td>45</td>\n",
       "      <td>None</td>\n",
       "    </tr>\n",
       "    <tr>\n",
       "      <th>...</th>\n",
       "      <td>...</td>\n",
       "      <td>...</td>\n",
       "    </tr>\n",
       "    <tr>\n",
       "      <th>3185</th>\n",
       "      <td>3185</td>\n",
       "      <td>None</td>\n",
       "    </tr>\n",
       "    <tr>\n",
       "      <th>3212</th>\n",
       "      <td>3212</td>\n",
       "      <td>None</td>\n",
       "    </tr>\n",
       "    <tr>\n",
       "      <th>3219</th>\n",
       "      <td>3219</td>\n",
       "      <td>None</td>\n",
       "    </tr>\n",
       "    <tr>\n",
       "      <th>3224</th>\n",
       "      <td>3224</td>\n",
       "      <td>None</td>\n",
       "    </tr>\n",
       "    <tr>\n",
       "      <th>3227</th>\n",
       "      <td>3227</td>\n",
       "      <td>None</td>\n",
       "    </tr>\n",
       "  </tbody>\n",
       "</table>\n",
       "<p>353 rows × 2 columns</p>\n",
       "</div>"
      ],
      "text/plain": [
       "        id QualityScore\n",
       "0        0         None\n",
       "15      15         None\n",
       "21      21         None\n",
       "35      35         None\n",
       "45      45         None\n",
       "...    ...          ...\n",
       "3185  3185         None\n",
       "3212  3212         None\n",
       "3219  3219         None\n",
       "3224  3224         None\n",
       "3227  3227         None\n",
       "\n",
       "[353 rows x 2 columns]"
      ]
     },
     "execution_count": 12,
     "metadata": {},
     "output_type": "execute_result"
    }
   ],
   "source": [
    "manudata_pd['QualityScore'] = np.where(manudata_pd['QualityScore'] < 64, None, manudata_pd['QualityScore'])\n",
    "manudata_pd[manudata_pd['QualityScore'].isnull()][['id','QualityScore']]"
   ]
  },
  {
   "cell_type": "code",
   "execution_count": 3,
   "metadata": {},
   "outputs": [
    {
     "ename": "ColumnNotFoundError",
     "evalue": "id",
     "output_type": "error",
     "traceback": [
      "\u001b[0;31m---------------------------------------------------------------------------\u001b[0m",
      "\u001b[0;31mTypeError\u001b[0m                                 Traceback (most recent call last)",
      "File \u001b[0;32m~/Desktop/Gites/xfb-trainings/.venv/lib/python3.12/site-packages/polars/_utils/getitem.py:156\u001b[0m, in \u001b[0;36mget_df_item_by_key\u001b[0;34m(df, key)\u001b[0m\n\u001b[1;32m    155\u001b[0m \u001b[38;5;28;01mtry\u001b[39;00m:\n\u001b[0;32m--> 156\u001b[0m     \u001b[38;5;28;01mreturn\u001b[39;00m \u001b[43m_select_rows\u001b[49m\u001b[43m(\u001b[49m\u001b[43mdf\u001b[49m\u001b[43m,\u001b[49m\u001b[43m \u001b[49m\u001b[43mkey\u001b[49m\u001b[43m)\u001b[49m  \u001b[38;5;66;03m# type: ignore[arg-type]\u001b[39;00m\n\u001b[1;32m    157\u001b[0m \u001b[38;5;28;01mexcept\u001b[39;00m \u001b[38;5;167;01mTypeError\u001b[39;00m:\n",
      "File \u001b[0;32m~/Desktop/Gites/xfb-trainings/.venv/lib/python3.12/site-packages/polars/_utils/getitem.py:296\u001b[0m, in \u001b[0;36m_select_rows\u001b[0;34m(df, key)\u001b[0m\n\u001b[1;32m    295\u001b[0m s \u001b[38;5;241m=\u001b[39m pl\u001b[38;5;241m.\u001b[39mSeries(\u001b[38;5;124m\"\u001b[39m\u001b[38;5;124m\"\u001b[39m, key, dtype\u001b[38;5;241m=\u001b[39mInt64)\n\u001b[0;32m--> 296\u001b[0m indices \u001b[38;5;241m=\u001b[39m \u001b[43m_convert_series_to_indices\u001b[49m\u001b[43m(\u001b[49m\u001b[43ms\u001b[49m\u001b[43m,\u001b[49m\u001b[43m \u001b[49m\u001b[43mdf\u001b[49m\u001b[38;5;241;43m.\u001b[39;49m\u001b[43mheight\u001b[49m\u001b[43m)\u001b[49m\n\u001b[1;32m    297\u001b[0m \u001b[38;5;28;01mreturn\u001b[39;00m _select_rows_by_index(df, indices)\n",
      "File \u001b[0;32m~/Desktop/Gites/xfb-trainings/.venv/lib/python3.12/site-packages/polars/_utils/getitem.py:344\u001b[0m, in \u001b[0;36m_convert_series_to_indices\u001b[0;34m(s, size)\u001b[0m\n\u001b[1;32m    343\u001b[0m         msg \u001b[38;5;241m=\u001b[39m \u001b[38;5;124mf\u001b[39m\u001b[38;5;124m\"\u001b[39m\u001b[38;5;124mcannot treat Series of type \u001b[39m\u001b[38;5;132;01m{\u001b[39;00ms\u001b[38;5;241m.\u001b[39mdtype\u001b[38;5;132;01m}\u001b[39;00m\u001b[38;5;124m as indices\u001b[39m\u001b[38;5;124m\"\u001b[39m\n\u001b[0;32m--> 344\u001b[0m         \u001b[38;5;28;01mraise\u001b[39;00m \u001b[38;5;167;01mTypeError\u001b[39;00m(msg)\n\u001b[1;32m    346\u001b[0m \u001b[38;5;28;01mif\u001b[39;00m s\u001b[38;5;241m.\u001b[39mlen() \u001b[38;5;241m==\u001b[39m \u001b[38;5;241m0\u001b[39m:\n",
      "\u001b[0;31mTypeError\u001b[0m: cannot treat Series of type String as indices",
      "\nDuring handling of the above exception, another exception occurred:\n",
      "\u001b[0;31mColumnNotFoundError\u001b[0m                       Traceback (most recent call last)",
      "Cell \u001b[0;32mIn[3], line 8\u001b[0m\n\u001b[1;32m      1\u001b[0m manudata_pl \u001b[38;5;241m=\u001b[39m manudata_pl\u001b[38;5;241m.\u001b[39mwith_columns(\n\u001b[1;32m      2\u001b[0m     (pl\u001b[38;5;241m.\u001b[39mwhen(pl\u001b[38;5;241m.\u001b[39mcol(\u001b[38;5;124m'\u001b[39m\u001b[38;5;124mQualityScore\u001b[39m\u001b[38;5;124m'\u001b[39m)\u001b[38;5;241m<\u001b[39m\u001b[38;5;241m64\u001b[39m)\n\u001b[1;32m      3\u001b[0m     \u001b[38;5;241m.\u001b[39mthen(\u001b[38;5;28;01mNone\u001b[39;00m)\n\u001b[0;32m   (...)\u001b[0m\n\u001b[1;32m      6\u001b[0m     )\n\u001b[1;32m      7\u001b[0m )\n\u001b[0;32m----> 8\u001b[0m \u001b[43mmanudata_pl\u001b[49m\u001b[38;5;241;43m.\u001b[39;49m\u001b[43mfilter\u001b[49m\u001b[43m(\u001b[49m\u001b[43mpl\u001b[49m\u001b[38;5;241;43m.\u001b[39;49m\u001b[43mcol\u001b[49m\u001b[43m(\u001b[49m\u001b[38;5;124;43m'\u001b[39;49m\u001b[38;5;124;43mQualityScore\u001b[39;49m\u001b[38;5;124;43m'\u001b[39;49m\u001b[43m)\u001b[49m\u001b[38;5;241;43m.\u001b[39;49m\u001b[43mis_null\u001b[49m\u001b[43m(\u001b[49m\u001b[43m)\u001b[49m\u001b[43m)\u001b[49m\u001b[43m[\u001b[49m\u001b[43m[\u001b[49m\u001b[38;5;124;43m'\u001b[39;49m\u001b[38;5;124;43mid\u001b[39;49m\u001b[38;5;124;43m'\u001b[39;49m\u001b[43m,\u001b[49m\u001b[38;5;124;43m'\u001b[39;49m\u001b[38;5;124;43mQualityScore\u001b[39;49m\u001b[38;5;124;43m'\u001b[39;49m\u001b[43m]\u001b[49m\u001b[43m]\u001b[49m\n",
      "File \u001b[0;32m~/Desktop/Gites/xfb-trainings/.venv/lib/python3.12/site-packages/polars/dataframe/frame.py:1107\u001b[0m, in \u001b[0;36mDataFrame.__getitem__\u001b[0;34m(self, key)\u001b[0m\n\u001b[1;32m   1093\u001b[0m \u001b[38;5;28;01mdef\u001b[39;00m \u001b[38;5;21m__getitem__\u001b[39m(\n\u001b[1;32m   1094\u001b[0m     \u001b[38;5;28mself\u001b[39m,\n\u001b[1;32m   1095\u001b[0m     key: (\n\u001b[0;32m   (...)\u001b[0m\n\u001b[1;32m   1104\u001b[0m     ),\n\u001b[1;32m   1105\u001b[0m ) \u001b[38;5;241m-\u001b[39m\u001b[38;5;241m>\u001b[39m DataFrame \u001b[38;5;241m|\u001b[39m Series \u001b[38;5;241m|\u001b[39m Any:\n\u001b[1;32m   1106\u001b[0m \u001b[38;5;250m    \u001b[39m\u001b[38;5;124;03m\"\"\"Get part of the DataFrame as a new DataFrame, Series, or scalar.\"\"\"\u001b[39;00m\n\u001b[0;32m-> 1107\u001b[0m     \u001b[38;5;28;01mreturn\u001b[39;00m \u001b[43mget_df_item_by_key\u001b[49m\u001b[43m(\u001b[49m\u001b[38;5;28;43mself\u001b[39;49m\u001b[43m,\u001b[49m\u001b[43m \u001b[49m\u001b[43mkey\u001b[49m\u001b[43m)\u001b[49m\n",
      "File \u001b[0;32m~/Desktop/Gites/xfb-trainings/.venv/lib/python3.12/site-packages/polars/_utils/getitem.py:158\u001b[0m, in \u001b[0;36mget_df_item_by_key\u001b[0;34m(df, key)\u001b[0m\n\u001b[1;32m    156\u001b[0m     \u001b[38;5;28;01mreturn\u001b[39;00m _select_rows(df, key)  \u001b[38;5;66;03m# type: ignore[arg-type]\u001b[39;00m\n\u001b[1;32m    157\u001b[0m \u001b[38;5;28;01mexcept\u001b[39;00m \u001b[38;5;167;01mTypeError\u001b[39;00m:\n\u001b[0;32m--> 158\u001b[0m     \u001b[38;5;28;01mreturn\u001b[39;00m \u001b[43m_select_columns\u001b[49m\u001b[43m(\u001b[49m\u001b[43mdf\u001b[49m\u001b[43m,\u001b[49m\u001b[43m \u001b[49m\u001b[43mkey\u001b[49m\u001b[43m)\u001b[49m\n",
      "File \u001b[0;32m~/Desktop/Gites/xfb-trainings/.venv/lib/python3.12/site-packages/polars/_utils/getitem.py:206\u001b[0m, in \u001b[0;36m_select_columns\u001b[0;34m(df, key)\u001b[0m\n\u001b[1;32m    204\u001b[0m     \u001b[38;5;28;01mreturn\u001b[39;00m _select_columns_by_index(df, key)  \u001b[38;5;66;03m# type: ignore[arg-type]\u001b[39;00m\n\u001b[1;32m    205\u001b[0m \u001b[38;5;28;01melif\u001b[39;00m \u001b[38;5;28misinstance\u001b[39m(first, \u001b[38;5;28mstr\u001b[39m):\n\u001b[0;32m--> 206\u001b[0m     \u001b[38;5;28;01mreturn\u001b[39;00m \u001b[43m_select_columns_by_name\u001b[49m\u001b[43m(\u001b[49m\u001b[43mdf\u001b[49m\u001b[43m,\u001b[49m\u001b[43m \u001b[49m\u001b[43mkey\u001b[49m\u001b[43m)\u001b[49m  \u001b[38;5;66;03m# type: ignore[arg-type]\u001b[39;00m\n\u001b[1;32m    207\u001b[0m \u001b[38;5;28;01melse\u001b[39;00m:\n\u001b[1;32m    208\u001b[0m     msg \u001b[38;5;241m=\u001b[39m \u001b[38;5;124mf\u001b[39m\u001b[38;5;124m\"\u001b[39m\u001b[38;5;124mcannot select columns using Sequence with elements of type \u001b[39m\u001b[38;5;132;01m{\u001b[39;00m\u001b[38;5;28mtype\u001b[39m(first)\u001b[38;5;241m.\u001b[39m\u001b[38;5;18m__name__\u001b[39m\u001b[38;5;132;01m!r}\u001b[39;00m\u001b[38;5;124m\"\u001b[39m\n",
      "File \u001b[0;32m~/Desktop/Gites/xfb-trainings/.venv/lib/python3.12/site-packages/polars/_utils/getitem.py:254\u001b[0m, in \u001b[0;36m_select_columns_by_name\u001b[0;34m(df, key)\u001b[0m\n\u001b[1;32m    253\u001b[0m \u001b[38;5;28;01mdef\u001b[39;00m \u001b[38;5;21m_select_columns_by_name\u001b[39m(df: DataFrame, key: Iterable[\u001b[38;5;28mstr\u001b[39m]) \u001b[38;5;241m-\u001b[39m\u001b[38;5;241m>\u001b[39m DataFrame:\n\u001b[0;32m--> 254\u001b[0m     \u001b[38;5;28;01mreturn\u001b[39;00m df\u001b[38;5;241m.\u001b[39m_from_pydf(\u001b[43mdf\u001b[49m\u001b[38;5;241;43m.\u001b[39;49m\u001b[43m_df\u001b[49m\u001b[38;5;241;43m.\u001b[39;49m\u001b[43mselect\u001b[49m\u001b[43m(\u001b[49m\u001b[43mkey\u001b[49m\u001b[43m)\u001b[49m)\n",
      "\u001b[0;31mColumnNotFoundError\u001b[0m: id"
     ]
    }
   ],
   "source": [
    "manudata_pl = manudata_pl.with_columns(\n",
    "    (pl.when(pl.col('QualityScore')<64)\n",
    "    .then(None)\n",
    "    .otherwise(pl.col('QualityScore'))\n",
    "    .alias('QualityScore')\n",
    "    )\n",
    ")\n",
    "manudata_pl.filter(pl.col('QualityScore').is_null())[['id','QualityScore']]"
   ]
  },
  {
   "cell_type": "markdown",
   "metadata": {},
   "source": [
    "#### Fill nan null, select distinct/unique, sort:\n",
    "Pandas: \n",
    "\n",
    ".fillna(tofillwith)\n",
    "\n",
    ".drop_duplicates()\n",
    "\n",
    ".sortvalues(bycolumn)\n",
    "\n",
    "Polars: \n",
    "\n",
    ".fill_null(tofillwith)      #fill_nan for nan\n",
    "\n",
    ".unique()\n",
    "\n",
    ".sort(pl.col(bythiscolumn))"
   ]
  },
  {
   "cell_type": "code",
   "execution_count": 14,
   "metadata": {},
   "outputs": [
    {
     "name": "stderr",
     "output_type": "stream",
     "text": [
      "/tmp/ipykernel_36714/3836028847.py:1: FutureWarning: Downcasting object dtype arrays on .fillna, .ffill, .bfill is deprecated and will change in a future version. Call result.infer_objects(copy=False) instead. To opt-in to the future behavior, set `pd.set_option('future.no_silent_downcasting', True)`\n",
      "  manudata_pd = manudata_pd.fillna(0)\n"
     ]
    },
    {
     "data": {
      "text/html": [
       "<div>\n",
       "<style scoped>\n",
       "    .dataframe tbody tr th:only-of-type {\n",
       "        vertical-align: middle;\n",
       "    }\n",
       "\n",
       "    .dataframe tbody tr th {\n",
       "        vertical-align: top;\n",
       "    }\n",
       "\n",
       "    .dataframe thead th {\n",
       "        text-align: right;\n",
       "    }\n",
       "</style>\n",
       "<table border=\"1\" class=\"dataframe\">\n",
       "  <thead>\n",
       "    <tr style=\"text-align: right;\">\n",
       "      <th></th>\n",
       "      <th>id</th>\n",
       "      <th>QualityScore</th>\n",
       "    </tr>\n",
       "  </thead>\n",
       "  <tbody>\n",
       "    <tr>\n",
       "      <th>1110</th>\n",
       "      <td>1110</td>\n",
       "      <td>0.000000</td>\n",
       "    </tr>\n",
       "    <tr>\n",
       "      <th>1298</th>\n",
       "      <td>1298</td>\n",
       "      <td>64.000724</td>\n",
       "    </tr>\n",
       "    <tr>\n",
       "      <th>1319</th>\n",
       "      <td>1319</td>\n",
       "      <td>64.005732</td>\n",
       "    </tr>\n",
       "    <tr>\n",
       "      <th>2445</th>\n",
       "      <td>2445</td>\n",
       "      <td>64.060154</td>\n",
       "    </tr>\n",
       "    <tr>\n",
       "      <th>464</th>\n",
       "      <td>464</td>\n",
       "      <td>64.062264</td>\n",
       "    </tr>\n",
       "    <tr>\n",
       "      <th>...</th>\n",
       "      <td>...</td>\n",
       "      <td>...</td>\n",
       "    </tr>\n",
       "    <tr>\n",
       "      <th>2841</th>\n",
       "      <td>2841</td>\n",
       "      <td>99.945915</td>\n",
       "    </tr>\n",
       "    <tr>\n",
       "      <th>2906</th>\n",
       "      <td>2906</td>\n",
       "      <td>99.965983</td>\n",
       "    </tr>\n",
       "    <tr>\n",
       "      <th>1379</th>\n",
       "      <td>1379</td>\n",
       "      <td>99.978363</td>\n",
       "    </tr>\n",
       "    <tr>\n",
       "      <th>1204</th>\n",
       "      <td>1204</td>\n",
       "      <td>99.992206</td>\n",
       "    </tr>\n",
       "    <tr>\n",
       "      <th>1852</th>\n",
       "      <td>1852</td>\n",
       "      <td>99.996993</td>\n",
       "    </tr>\n",
       "  </tbody>\n",
       "</table>\n",
       "<p>2888 rows × 2 columns</p>\n",
       "</div>"
      ],
      "text/plain": [
       "        id  QualityScore\n",
       "1110  1110      0.000000\n",
       "1298  1298     64.000724\n",
       "1319  1319     64.005732\n",
       "2445  2445     64.060154\n",
       "464    464     64.062264\n",
       "...    ...           ...\n",
       "2841  2841     99.945915\n",
       "2906  2906     99.965983\n",
       "1379  1379     99.978363\n",
       "1204  1204     99.992206\n",
       "1852  1852     99.996993\n",
       "\n",
       "[2888 rows x 2 columns]"
      ]
     },
     "execution_count": 14,
     "metadata": {},
     "output_type": "execute_result"
    }
   ],
   "source": [
    "manudata_pd = manudata_pd.fillna(0)\n",
    "manudata_pd['QualityScore'].drop_duplicates()\n",
    "temp = manudata_pd[['id','QualityScore']].sort_values(by='QualityScore')\n",
    "temp.drop_duplicates(subset='QualityScore')\n"
   ]
  },
  {
   "cell_type": "code",
   "execution_count": 15,
   "metadata": {},
   "outputs": [
    {
     "data": {
      "text/html": [
       "<div><style>\n",
       ".dataframe > thead > tr,\n",
       ".dataframe > tbody > tr {\n",
       "  text-align: right;\n",
       "  white-space: pre-wrap;\n",
       "}\n",
       "</style>\n",
       "<small>shape: (3_240, 2)</small><table border=\"1\" class=\"dataframe\"><thead><tr><th>id</th><th>QualityScore</th></tr><tr><td>u32</td><td>f64</td></tr></thead><tbody><tr><td>1298</td><td>64.000724</td></tr><tr><td>1319</td><td>64.005732</td></tr><tr><td>2445</td><td>64.060154</td></tr><tr><td>464</td><td>64.062264</td></tr><tr><td>1786</td><td>64.077276</td></tr><tr><td>&hellip;</td><td>&hellip;</td></tr><tr><td>1451</td><td>null</td></tr><tr><td>2574</td><td>null</td></tr><tr><td>2912</td><td>null</td></tr><tr><td>444</td><td>null</td></tr><tr><td>2960</td><td>null</td></tr></tbody></table></div>"
      ],
      "text/plain": [
       "shape: (3_240, 2)\n",
       "┌──────┬──────────────┐\n",
       "│ id   ┆ QualityScore │\n",
       "│ ---  ┆ ---          │\n",
       "│ u32  ┆ f64          │\n",
       "╞══════╪══════════════╡\n",
       "│ 1298 ┆ 64.000724    │\n",
       "│ 1319 ┆ 64.005732    │\n",
       "│ 2445 ┆ 64.060154    │\n",
       "│ 464  ┆ 64.062264    │\n",
       "│ 1786 ┆ 64.077276    │\n",
       "│ …    ┆ …            │\n",
       "│ 1451 ┆ null         │\n",
       "│ 2574 ┆ null         │\n",
       "│ 2912 ┆ null         │\n",
       "│ 444  ┆ null         │\n",
       "│ 2960 ┆ null         │\n",
       "└──────┴──────────────┘"
      ]
     },
     "execution_count": 15,
     "metadata": {},
     "output_type": "execute_result"
    }
   ],
   "source": [
    "manudata_pl[['id','QualityScore']].unique()\n",
    "manudata_pl[['id','QualityScore']].unique().sort(pl.col('QualityScore'),nulls_last=True)"
   ]
  },
  {
   "cell_type": "code",
   "execution_count": 16,
   "metadata": {},
   "outputs": [
    {
     "data": {
      "text/html": [
       "<div><style>\n",
       ".dataframe > thead > tr,\n",
       ".dataframe > tbody > tr {\n",
       "  text-align: right;\n",
       "  white-space: pre-wrap;\n",
       "}\n",
       "</style>\n",
       "<small>shape: (2_888, 2)</small><table border=\"1\" class=\"dataframe\"><thead><tr><th>id</th><th>QualityScore</th></tr><tr><td>i64</td><td>f64</td></tr></thead><tbody><tr><td>0</td><td>0.0</td></tr><tr><td>1298</td><td>64.000724</td></tr><tr><td>1319</td><td>64.005732</td></tr><tr><td>2445</td><td>64.060154</td></tr><tr><td>464</td><td>64.062264</td></tr><tr><td>&hellip;</td><td>&hellip;</td></tr><tr><td>2841</td><td>99.945915</td></tr><tr><td>2906</td><td>99.965983</td></tr><tr><td>1379</td><td>99.978363</td></tr><tr><td>1204</td><td>99.992206</td></tr><tr><td>1852</td><td>99.996993</td></tr></tbody></table></div>"
      ],
      "text/plain": [
       "shape: (2_888, 2)\n",
       "┌──────┬──────────────┐\n",
       "│ id   ┆ QualityScore │\n",
       "│ ---  ┆ ---          │\n",
       "│ i64  ┆ f64          │\n",
       "╞══════╪══════════════╡\n",
       "│ 0    ┆ 0.0          │\n",
       "│ 1298 ┆ 64.000724    │\n",
       "│ 1319 ┆ 64.005732    │\n",
       "│ 2445 ┆ 64.060154    │\n",
       "│ 464  ┆ 64.062264    │\n",
       "│ …    ┆ …            │\n",
       "│ 2841 ┆ 99.945915    │\n",
       "│ 2906 ┆ 99.965983    │\n",
       "│ 1379 ┆ 99.978363    │\n",
       "│ 1204 ┆ 99.992206    │\n",
       "│ 1852 ┆ 99.996993    │\n",
       "└──────┴──────────────┘"
      ]
     },
     "execution_count": 16,
     "metadata": {},
     "output_type": "execute_result"
    }
   ],
   "source": [
    "manudata_pl= manudata_pl.fill_null(0)\n",
    "manudata_pl[['id','QualityScore']].unique(('QualityScore')).sort(pl.col('QualityScore'),nulls_last=True)\n"
   ]
  },
  {
   "cell_type": "markdown",
   "metadata": {},
   "source": [
    "#### Mean, sum, median, mode\n",
    "same:\n",
    "\n",
    ".mean()     .sum()      .median()     .mode()"
   ]
  },
  {
   "cell_type": "code",
   "execution_count": 17,
   "metadata": {},
   "outputs": [
    {
     "name": "stdout",
     "output_type": "stream",
     "text": [
      " 73.37677896474875 \n",
      " 237740.76384578596 \n",
      " 80.26531159628432 \n",
      " 0    0.0\n",
      "Name: QualityScore, dtype: float64\n"
     ]
    }
   ],
   "source": [
    "print(f' {manudata_pd['QualityScore'].mean()} \\n {manudata_pd['QualityScore'].sum()} \\n {manudata_pd['QualityScore'].median()} \\n {manudata_pd['QualityScore'].mode()}')"
   ]
  },
  {
   "cell_type": "code",
   "execution_count": 18,
   "metadata": {},
   "outputs": [
    {
     "name": "stdout",
     "output_type": "stream",
     "text": [
      " 73.37677896474874 \n",
      " 237740.76384578593 \n",
      " 80.26531159628432 \n",
      " shape: (1,)\n",
      "Series: 'QualityScore' [f64]\n",
      "[\n",
      "\t0.0\n",
      "]\n"
     ]
    }
   ],
   "source": [
    "print(f' {manudata_pl['QualityScore'].mean()} \\n {manudata_pl['QualityScore'].sum()} \\n {manudata_pl['QualityScore'].median()} \\n {manudata_pl['QualityScore'].mode()}')"
   ]
  },
  {
   "cell_type": "markdown",
   "metadata": {},
   "source": [
    "#### Like, or contains, starts with, ends with string (also string conversion):\n",
    "same:\n",
    "\n",
    "].str.contains('containme'), ].str.startswith('containme'), ].str.endwith('containme')\n",
    "\n",
    "Pandas: \n",
    "\n",
    "].astype(str)\n",
    "\n",
    "\n",
    "Polars: \n",
    "\n",
    "with_columns(... .cast(pl.String, strict=False))"
   ]
  },
  {
   "cell_type": "code",
   "execution_count": 19,
   "metadata": {},
   "outputs": [
    {
     "data": {
      "text/html": [
       "<div>\n",
       "<style scoped>\n",
       "    .dataframe tbody tr th:only-of-type {\n",
       "        vertical-align: middle;\n",
       "    }\n",
       "\n",
       "    .dataframe tbody tr th {\n",
       "        vertical-align: top;\n",
       "    }\n",
       "\n",
       "    .dataframe thead th {\n",
       "        text-align: right;\n",
       "    }\n",
       "</style>\n",
       "<table border=\"1\" class=\"dataframe\">\n",
       "  <thead>\n",
       "    <tr style=\"text-align: right;\">\n",
       "      <th></th>\n",
       "      <th>id</th>\n",
       "      <th>QualityScore</th>\n",
       "    </tr>\n",
       "  </thead>\n",
       "  <tbody>\n",
       "    <tr>\n",
       "      <th>3</th>\n",
       "      <td>3</td>\n",
       "      <td>67.62869012018982</td>\n",
       "    </tr>\n",
       "    <tr>\n",
       "      <th>19</th>\n",
       "      <td>19</td>\n",
       "      <td>68.90119129995543</td>\n",
       "    </tr>\n",
       "    <tr>\n",
       "      <th>39</th>\n",
       "      <td>39</td>\n",
       "      <td>65.08816477351124</td>\n",
       "    </tr>\n",
       "    <tr>\n",
       "      <th>43</th>\n",
       "      <td>43</td>\n",
       "      <td>64.93022479803527</td>\n",
       "    </tr>\n",
       "    <tr>\n",
       "      <th>47</th>\n",
       "      <td>47</td>\n",
       "      <td>66.9764217286566</td>\n",
       "    </tr>\n",
       "    <tr>\n",
       "      <th>...</th>\n",
       "      <td>...</td>\n",
       "      <td>...</td>\n",
       "    </tr>\n",
       "    <tr>\n",
       "      <th>3191</th>\n",
       "      <td>3191</td>\n",
       "      <td>68.08337259909756</td>\n",
       "    </tr>\n",
       "    <tr>\n",
       "      <th>3201</th>\n",
       "      <td>3201</td>\n",
       "      <td>69.47825450352627</td>\n",
       "    </tr>\n",
       "    <tr>\n",
       "      <th>3208</th>\n",
       "      <td>3208</td>\n",
       "      <td>66.6176656007551</td>\n",
       "    </tr>\n",
       "    <tr>\n",
       "      <th>3210</th>\n",
       "      <td>3210</td>\n",
       "      <td>69.76957872352705</td>\n",
       "    </tr>\n",
       "    <tr>\n",
       "      <th>3233</th>\n",
       "      <td>3233</td>\n",
       "      <td>65.4702009445355</td>\n",
       "    </tr>\n",
       "  </tbody>\n",
       "</table>\n",
       "<p>446 rows × 2 columns</p>\n",
       "</div>"
      ],
      "text/plain": [
       "        id       QualityScore\n",
       "3        3  67.62869012018982\n",
       "19      19  68.90119129995543\n",
       "39      39  65.08816477351124\n",
       "43      43  64.93022479803527\n",
       "47      47   66.9764217286566\n",
       "...    ...                ...\n",
       "3191  3191  68.08337259909756\n",
       "3201  3201  69.47825450352627\n",
       "3208  3208   66.6176656007551\n",
       "3210  3210  69.76957872352705\n",
       "3233  3233   65.4702009445355\n",
       "\n",
       "[446 rows x 2 columns]"
      ]
     },
     "execution_count": 19,
     "metadata": {},
     "output_type": "execute_result"
    }
   ],
   "source": [
    "temp = manudata_pd[['id','QualityScore']].astype(str) #We do this because this dataset has no string fields unfortunately\n",
    "temp[temp['QualityScore'].str.startswith('6')]"
   ]
  },
  {
   "cell_type": "code",
   "execution_count": 20,
   "metadata": {},
   "outputs": [
    {
     "data": {
      "text/html": [
       "<div><style>\n",
       ".dataframe > thead > tr,\n",
       ".dataframe > tbody > tr {\n",
       "  text-align: right;\n",
       "  white-space: pre-wrap;\n",
       "}\n",
       "</style>\n",
       "<small>shape: (446, 2)</small><table border=\"1\" class=\"dataframe\"><thead><tr><th>id</th><th>QualityScore</th></tr><tr><td>i64</td><td>str</td></tr></thead><tbody><tr><td>3</td><td>&quot;67.62869012018982&quot;</td></tr><tr><td>19</td><td>&quot;68.90119129995543&quot;</td></tr><tr><td>39</td><td>&quot;65.08816477351124&quot;</td></tr><tr><td>43</td><td>&quot;64.93022479803527&quot;</td></tr><tr><td>47</td><td>&quot;66.9764217286566&quot;</td></tr><tr><td>&hellip;</td><td>&hellip;</td></tr><tr><td>3191</td><td>&quot;68.08337259909756&quot;</td></tr><tr><td>3201</td><td>&quot;69.47825450352627&quot;</td></tr><tr><td>3208</td><td>&quot;66.6176656007551&quot;</td></tr><tr><td>3210</td><td>&quot;69.76957872352705&quot;</td></tr><tr><td>3233</td><td>&quot;65.4702009445355&quot;</td></tr></tbody></table></div>"
      ],
      "text/plain": [
       "shape: (446, 2)\n",
       "┌──────┬───────────────────┐\n",
       "│ id   ┆ QualityScore      │\n",
       "│ ---  ┆ ---               │\n",
       "│ i64  ┆ str               │\n",
       "╞══════╪═══════════════════╡\n",
       "│ 3    ┆ 67.62869012018982 │\n",
       "│ 19   ┆ 68.90119129995543 │\n",
       "│ 39   ┆ 65.08816477351124 │\n",
       "│ 43   ┆ 64.93022479803527 │\n",
       "│ 47   ┆ 66.9764217286566  │\n",
       "│ …    ┆ …                 │\n",
       "│ 3191 ┆ 68.08337259909756 │\n",
       "│ 3201 ┆ 69.47825450352627 │\n",
       "│ 3208 ┆ 66.6176656007551  │\n",
       "│ 3210 ┆ 69.76957872352705 │\n",
       "│ 3233 ┆ 65.4702009445355  │\n",
       "└──────┴───────────────────┘"
      ]
     },
     "execution_count": 20,
     "metadata": {},
     "output_type": "execute_result"
    }
   ],
   "source": [
    "temp = manudata_pl.with_columns(pl.col(\"QualityScore\").cast(pl.String, strict=False).alias(\"QualityScore\"))     #we add a new column that is a cast of the old column that overwrites the old column\n",
    "manudata_pl.filter(pl.col('QualityScore').str.starts_with('6'))[['id','QualityScore']] #In Polars we dont actually need to do this. str.contains, starts_with, ends_with are compatible with numbers in polars.\n",
    "temp.filter(pl.col('QualityScore').str.starts_with('6'))[['id','QualityScore']] #But here you can even see the '' around the numbers"
   ]
  },
  {
   "cell_type": "markdown",
   "metadata": {},
   "source": [
    "#### JOINs, similar:\n",
    "\n",
    "Pandas:\n",
    "\n",
    "pd.merge(table1,table2, how='left\\right\\inner\\outer', left_on='id' , right_on='user_id')   #if the column names are the same just use  on=...\n",
    "\n",
    "Polars:\n",
    "\n",
    "table1.join(table2, how='left\\right\\inner\\outer', left_on='id' , right_on='user_id')"
   ]
  },
  {
   "cell_type": "code",
   "execution_count": 21,
   "metadata": {},
   "outputs": [
    {
     "data": {
      "text/html": [
       "<div>\n",
       "<style scoped>\n",
       "    .dataframe tbody tr th:only-of-type {\n",
       "        vertical-align: middle;\n",
       "    }\n",
       "\n",
       "    .dataframe tbody tr th {\n",
       "        vertical-align: top;\n",
       "    }\n",
       "\n",
       "    .dataframe thead th {\n",
       "        text-align: right;\n",
       "    }\n",
       "</style>\n",
       "<table border=\"1\" class=\"dataframe\">\n",
       "  <thead>\n",
       "    <tr style=\"text-align: right;\">\n",
       "      <th></th>\n",
       "      <th>id</th>\n",
       "      <th>QualityScore</th>\n",
       "      <th>DefectRate</th>\n",
       "    </tr>\n",
       "  </thead>\n",
       "  <tbody>\n",
       "    <tr>\n",
       "      <th>0</th>\n",
       "      <td>0</td>\n",
       "      <td>0.000000</td>\n",
       "      <td>3.121492</td>\n",
       "    </tr>\n",
       "    <tr>\n",
       "      <th>1</th>\n",
       "      <td>1</td>\n",
       "      <td>83.697818</td>\n",
       "      <td>0.819531</td>\n",
       "    </tr>\n",
       "    <tr>\n",
       "      <th>2</th>\n",
       "      <td>2</td>\n",
       "      <td>90.350550</td>\n",
       "      <td>4.514504</td>\n",
       "    </tr>\n",
       "    <tr>\n",
       "      <th>3</th>\n",
       "      <td>3</td>\n",
       "      <td>67.628690</td>\n",
       "      <td>0.638524</td>\n",
       "    </tr>\n",
       "    <tr>\n",
       "      <th>4</th>\n",
       "      <td>4</td>\n",
       "      <td>82.728334</td>\n",
       "      <td>3.867784</td>\n",
       "    </tr>\n",
       "    <tr>\n",
       "      <th>...</th>\n",
       "      <td>...</td>\n",
       "      <td>...</td>\n",
       "      <td>...</td>\n",
       "    </tr>\n",
       "    <tr>\n",
       "      <th>3235</th>\n",
       "      <td>3235</td>\n",
       "      <td>87.141681</td>\n",
       "      <td>2.667570</td>\n",
       "    </tr>\n",
       "    <tr>\n",
       "      <th>3236</th>\n",
       "      <td>3236</td>\n",
       "      <td>95.562997</td>\n",
       "      <td>0.751272</td>\n",
       "    </tr>\n",
       "    <tr>\n",
       "      <th>3237</th>\n",
       "      <td>3237</td>\n",
       "      <td>77.973442</td>\n",
       "      <td>4.899756</td>\n",
       "    </tr>\n",
       "    <tr>\n",
       "      <th>3238</th>\n",
       "      <td>3238</td>\n",
       "      <td>95.755591</td>\n",
       "      <td>4.057665</td>\n",
       "    </tr>\n",
       "    <tr>\n",
       "      <th>3239</th>\n",
       "      <td>3239</td>\n",
       "      <td>94.630965</td>\n",
       "      <td>2.705502</td>\n",
       "    </tr>\n",
       "  </tbody>\n",
       "</table>\n",
       "<p>3240 rows × 3 columns</p>\n",
       "</div>"
      ],
      "text/plain": [
       "        id  QualityScore  DefectRate\n",
       "0        0      0.000000    3.121492\n",
       "1        1     83.697818    0.819531\n",
       "2        2     90.350550    4.514504\n",
       "3        3     67.628690    0.638524\n",
       "4        4     82.728334    3.867784\n",
       "...    ...           ...         ...\n",
       "3235  3235     87.141681    2.667570\n",
       "3236  3236     95.562997    0.751272\n",
       "3237  3237     77.973442    4.899756\n",
       "3238  3238     95.755591    4.057665\n",
       "3239  3239     94.630965    2.705502\n",
       "\n",
       "[3240 rows x 3 columns]"
      ]
     },
     "execution_count": 21,
     "metadata": {},
     "output_type": "execute_result"
    }
   ],
   "source": [
    "t1 = manudata_pd[['id','QualityScore']]\n",
    "t2 = manudata_pd[['id','DefectRate']]\n",
    "pd.merge(t1,t2, how='left' , on='id')"
   ]
  },
  {
   "cell_type": "code",
   "execution_count": 22,
   "metadata": {},
   "outputs": [
    {
     "name": "stderr",
     "output_type": "stream",
     "text": [
      "/tmp/ipykernel_36714/2030853720.py:3: DeprecationWarning: The default coalesce behavior of left join will change to `False` in the next breaking release. Pass `coalesce=True` to keep the current behavior and silence this warning.\n",
      "  t1.join(t2,how='left',on='id')\n"
     ]
    },
    {
     "data": {
      "text/html": [
       "<div><style>\n",
       ".dataframe > thead > tr,\n",
       ".dataframe > tbody > tr {\n",
       "  text-align: right;\n",
       "  white-space: pre-wrap;\n",
       "}\n",
       "</style>\n",
       "<small>shape: (3_240, 3)</small><table border=\"1\" class=\"dataframe\"><thead><tr><th>id</th><th>QualityScore</th><th>DefectRate</th></tr><tr><td>i64</td><td>f64</td><td>f64</td></tr></thead><tbody><tr><td>0</td><td>0.0</td><td>3.121492</td></tr><tr><td>1</td><td>83.697818</td><td>0.819531</td></tr><tr><td>2</td><td>90.35055</td><td>4.514504</td></tr><tr><td>3</td><td>67.62869</td><td>0.638524</td></tr><tr><td>4</td><td>82.728334</td><td>3.867784</td></tr><tr><td>&hellip;</td><td>&hellip;</td><td>&hellip;</td></tr><tr><td>3235</td><td>87.141681</td><td>2.66757</td></tr><tr><td>3236</td><td>95.562997</td><td>0.751272</td></tr><tr><td>3237</td><td>77.973442</td><td>4.899756</td></tr><tr><td>3238</td><td>95.755591</td><td>4.057665</td></tr><tr><td>3239</td><td>94.630965</td><td>2.705502</td></tr></tbody></table></div>"
      ],
      "text/plain": [
       "shape: (3_240, 3)\n",
       "┌──────┬──────────────┬────────────┐\n",
       "│ id   ┆ QualityScore ┆ DefectRate │\n",
       "│ ---  ┆ ---          ┆ ---        │\n",
       "│ i64  ┆ f64          ┆ f64        │\n",
       "╞══════╪══════════════╪════════════╡\n",
       "│ 0    ┆ 0.0          ┆ 3.121492   │\n",
       "│ 1    ┆ 83.697818    ┆ 0.819531   │\n",
       "│ 2    ┆ 90.35055     ┆ 4.514504   │\n",
       "│ 3    ┆ 67.62869     ┆ 0.638524   │\n",
       "│ 4    ┆ 82.728334    ┆ 3.867784   │\n",
       "│ …    ┆ …            ┆ …          │\n",
       "│ 3235 ┆ 87.141681    ┆ 2.66757    │\n",
       "│ 3236 ┆ 95.562997    ┆ 0.751272   │\n",
       "│ 3237 ┆ 77.973442    ┆ 4.899756   │\n",
       "│ 3238 ┆ 95.755591    ┆ 4.057665   │\n",
       "│ 3239 ┆ 94.630965    ┆ 2.705502   │\n",
       "└──────┴──────────────┴────────────┘"
      ]
     },
     "execution_count": 22,
     "metadata": {},
     "output_type": "execute_result"
    }
   ],
   "source": [
    "t1 = manudata_pl[['id','QualityScore']]\n",
    "t2 = manudata_pl[['id','DefectRate']]\n",
    "t1.join(t2,how='left',on='id')\n"
   ]
  },
  {
   "cell_type": "markdown",
   "metadata": {},
   "source": [
    "#### Group by:\n",
    "\n",
    "Pandas: groupby('colname').mean()\n",
    "\n",
    "Polars: group_by(pl.col('colname')).agg(pl.col('coltoaggregate').mean())"
   ]
  },
  {
   "cell_type": "code",
   "execution_count": 23,
   "metadata": {},
   "outputs": [
    {
     "data": {
      "text/html": [
       "<div>\n",
       "<style scoped>\n",
       "    .dataframe tbody tr th:only-of-type {\n",
       "        vertical-align: middle;\n",
       "    }\n",
       "\n",
       "    .dataframe tbody tr th {\n",
       "        vertical-align: top;\n",
       "    }\n",
       "\n",
       "    .dataframe thead th {\n",
       "        text-align: right;\n",
       "    }\n",
       "</style>\n",
       "<table border=\"1\" class=\"dataframe\">\n",
       "  <thead>\n",
       "    <tr style=\"text-align: right;\">\n",
       "      <th></th>\n",
       "      <th>DeliveryDelay</th>\n",
       "      <th>Avg. QScore</th>\n",
       "    </tr>\n",
       "  </thead>\n",
       "  <tbody>\n",
       "    <tr>\n",
       "      <th>0</th>\n",
       "      <td>0</td>\n",
       "      <td>73.595962</td>\n",
       "    </tr>\n",
       "    <tr>\n",
       "      <th>1</th>\n",
       "      <td>1</td>\n",
       "      <td>74.984327</td>\n",
       "    </tr>\n",
       "    <tr>\n",
       "      <th>2</th>\n",
       "      <td>2</td>\n",
       "      <td>70.399218</td>\n",
       "    </tr>\n",
       "    <tr>\n",
       "      <th>3</th>\n",
       "      <td>3</td>\n",
       "      <td>73.260529</td>\n",
       "    </tr>\n",
       "    <tr>\n",
       "      <th>4</th>\n",
       "      <td>4</td>\n",
       "      <td>73.504914</td>\n",
       "    </tr>\n",
       "    <tr>\n",
       "      <th>5</th>\n",
       "      <td>5</td>\n",
       "      <td>74.409951</td>\n",
       "    </tr>\n",
       "  </tbody>\n",
       "</table>\n",
       "</div>"
      ],
      "text/plain": [
       "   DeliveryDelay  Avg. QScore\n",
       "0              0    73.595962\n",
       "1              1    74.984327\n",
       "2              2    70.399218\n",
       "3              3    73.260529\n",
       "4              4    73.504914\n",
       "5              5    74.409951"
      ]
     },
     "execution_count": 23,
     "metadata": {},
     "output_type": "execute_result"
    }
   ],
   "source": [
    "manudata_pd[['DeliveryDelay','QualityScore']].groupby('DeliveryDelay').mean().reset_index().rename(columns={\"QualityScore\":\"Avg. QScore\"})"
   ]
  },
  {
   "cell_type": "code",
   "execution_count": 24,
   "metadata": {},
   "outputs": [
    {
     "data": {
      "text/html": [
       "<div><style>\n",
       ".dataframe > thead > tr,\n",
       ".dataframe > tbody > tr {\n",
       "  text-align: right;\n",
       "  white-space: pre-wrap;\n",
       "}\n",
       "</style>\n",
       "<small>shape: (6, 2)</small><table border=\"1\" class=\"dataframe\"><thead><tr><th>DeliveryDelay</th><th>Avg. QScore</th></tr><tr><td>i64</td><td>f64</td></tr></thead><tbody><tr><td>0</td><td>73.595962</td></tr><tr><td>1</td><td>74.984327</td></tr><tr><td>2</td><td>70.399218</td></tr><tr><td>3</td><td>73.260529</td></tr><tr><td>4</td><td>73.504914</td></tr><tr><td>5</td><td>74.409951</td></tr></tbody></table></div>"
      ],
      "text/plain": [
       "shape: (6, 2)\n",
       "┌───────────────┬─────────────┐\n",
       "│ DeliveryDelay ┆ Avg. QScore │\n",
       "│ ---           ┆ ---         │\n",
       "│ i64           ┆ f64         │\n",
       "╞═══════════════╪═════════════╡\n",
       "│ 0             ┆ 73.595962   │\n",
       "│ 1             ┆ 74.984327   │\n",
       "│ 2             ┆ 70.399218   │\n",
       "│ 3             ┆ 73.260529   │\n",
       "│ 4             ┆ 73.504914   │\n",
       "│ 5             ┆ 74.409951   │\n",
       "└───────────────┴─────────────┘"
      ]
     },
     "execution_count": 24,
     "metadata": {},
     "output_type": "execute_result"
    }
   ],
   "source": [
    "manudata_pl[['DeliveryDelay','QualityScore']].group_by('DeliveryDelay').agg(pl.col('QualityScore').mean())\n",
    "manudata_pl[['DeliveryDelay','QualityScore']].group_by('DeliveryDelay').agg(pl.col('QualityScore').mean()).sort(pl.col('DeliveryDelay'))    #NOT sorted by default by groupby\n",
    "manudata_pl[['DeliveryDelay','QualityScore']].group_by('DeliveryDelay').agg(pl.col('QualityScore').mean()).sort(pl.col('DeliveryDelay')).rename({'QualityScore':'Avg. QScore'})"
   ]
  },
  {
   "cell_type": "markdown",
   "metadata": {},
   "source": [
    "#### Save to Jason formats for front end:\n",
    "\n",
    "pandas: .to_dict(orient=\"records\")\n",
    "polars: .to_dicts()\n",
    "\n",
    "Saving json is the same once the dictionary structure is achieved."
   ]
  },
  {
   "cell_type": "code",
   "execution_count": 25,
   "metadata": {},
   "outputs": [
    {
     "data": {
      "text/plain": [
       "[{'DeliveryDelay': 0,\n",
       "  'Avg. QScore': 73.5959618475385,\n",
       "  'Avg. DRate': 2.7395657946282865},\n",
       " {'DeliveryDelay': 1,\n",
       "  'Avg. QScore': 74.98432708547425,\n",
       "  'Avg. DRate': 2.8047995911577477},\n",
       " {'DeliveryDelay': 2,\n",
       "  'Avg. QScore': 70.39921841825486,\n",
       "  'Avg. DRate': 2.84651332601182},\n",
       " {'DeliveryDelay': 3,\n",
       "  'Avg. QScore': 73.26052918113986,\n",
       "  'Avg. DRate': 2.720116567295347},\n",
       " {'DeliveryDelay': 4,\n",
       "  'Avg. QScore': 73.50491376329146,\n",
       "  'Avg. DRate': 2.6784673508922556},\n",
       " {'DeliveryDelay': 5,\n",
       "  'Avg. QScore': 74.40995112027996,\n",
       "  'Avg. DRate': 2.7182968180953417}]"
      ]
     },
     "execution_count": 25,
     "metadata": {},
     "output_type": "execute_result"
    }
   ],
   "source": [
    "temp = manudata_pd[['DeliveryDelay','QualityScore','DefectRate']].groupby('DeliveryDelay').mean().reset_index().rename(columns={\"QualityScore\":\"Avg. QScore\", \"DefectRate\":\"Avg. DRate\"})\n",
    "temp = temp.to_dict(orient=\"records\")\n",
    "temp"
   ]
  },
  {
   "cell_type": "code",
   "execution_count": 26,
   "metadata": {},
   "outputs": [],
   "source": [
    "with open('datagroup_pd.json', 'w') as f:\n",
    "    json.dump(temp, f)"
   ]
  },
  {
   "cell_type": "code",
   "execution_count": 2,
   "metadata": {},
   "outputs": [
    {
     "ename": "NameError",
     "evalue": "name 'manudata_pl' is not defined",
     "output_type": "error",
     "traceback": [
      "\u001b[0;31m---------------------------------------------------------------------------\u001b[0m",
      "\u001b[0;31mNameError\u001b[0m                                 Traceback (most recent call last)",
      "Cell \u001b[0;32mIn[2], line 1\u001b[0m\n\u001b[0;32m----> 1\u001b[0m temp \u001b[38;5;241m=\u001b[39m \u001b[43mmanudata_pl\u001b[49m[[\u001b[38;5;124m'\u001b[39m\u001b[38;5;124mDeliveryDelay\u001b[39m\u001b[38;5;124m'\u001b[39m,\u001b[38;5;124m'\u001b[39m\u001b[38;5;124mDefectRate\u001b[39m\u001b[38;5;124m'\u001b[39m,\u001b[38;5;124m'\u001b[39m\u001b[38;5;124mQualityScore\u001b[39m\u001b[38;5;124m'\u001b[39m]]\u001b[38;5;241m.\u001b[39mgroup_by(\u001b[38;5;124m'\u001b[39m\u001b[38;5;124mDeliveryDelay\u001b[39m\u001b[38;5;124m'\u001b[39m)\u001b[38;5;241m.\u001b[39magg(pl\u001b[38;5;241m.\u001b[39mcol(\u001b[38;5;124m'\u001b[39m\u001b[38;5;124mQualityScore\u001b[39m\u001b[38;5;124m'\u001b[39m)\u001b[38;5;241m.\u001b[39mmean(),pl\u001b[38;5;241m.\u001b[39mcol(\u001b[38;5;124m'\u001b[39m\u001b[38;5;124mDefectRate\u001b[39m\u001b[38;5;124m'\u001b[39m)\u001b[38;5;241m.\u001b[39mmean())\u001b[38;5;241m.\u001b[39msort(pl\u001b[38;5;241m.\u001b[39mcol(\u001b[38;5;124m'\u001b[39m\u001b[38;5;124mDeliveryDelay\u001b[39m\u001b[38;5;124m'\u001b[39m))\u001b[38;5;241m.\u001b[39mrename({\u001b[38;5;124m'\u001b[39m\u001b[38;5;124mQualityScore\u001b[39m\u001b[38;5;124m'\u001b[39m:\u001b[38;5;124m'\u001b[39m\u001b[38;5;124mAvg. QScore\u001b[39m\u001b[38;5;124m'\u001b[39m,\u001b[38;5;124m'\u001b[39m\u001b[38;5;124mDefectRate\u001b[39m\u001b[38;5;124m'\u001b[39m:\u001b[38;5;124m'\u001b[39m\u001b[38;5;124mAvg. DRate\u001b[39m\u001b[38;5;124m'\u001b[39m})\n\u001b[1;32m      2\u001b[0m temp \u001b[38;5;241m=\u001b[39m temp\u001b[38;5;241m.\u001b[39mto_dicts()\n\u001b[1;32m      3\u001b[0m temp\n",
      "\u001b[0;31mNameError\u001b[0m: name 'manudata_pl' is not defined"
     ]
    }
   ],
   "source": [
    "temp = manudata_pl[['DeliveryDelay','DefectRate','QualityScore']].group_by('DeliveryDelay').agg(pl.col('QualityScore').mean(),pl.col('DefectRate').mean()).sort(pl.col('DeliveryDelay')).rename({'QualityScore':'Avg. QScore','DefectRate':'Avg. DRate'})\n",
    "temp = temp.to_dicts()\n",
    "temp"
   ]
  },
  {
   "cell_type": "code",
   "execution_count": 28,
   "metadata": {},
   "outputs": [],
   "source": [
    "with open('datagroup_pl.json', 'w') as f:\n",
    "    json.dump(temp, f)"
   ]
  }
 ],
 "metadata": {
  "kernelspec": {
   "display_name": ".venv",
   "language": "python",
   "name": "python3"
  },
  "language_info": {
   "codemirror_mode": {
    "name": "ipython",
    "version": 3
   },
   "file_extension": ".py",
   "mimetype": "text/x-python",
   "name": "python",
   "nbconvert_exporter": "python",
   "pygments_lexer": "ipython3",
   "version": "3.12.6"
  }
 },
 "nbformat": 4,
 "nbformat_minor": 2
}
